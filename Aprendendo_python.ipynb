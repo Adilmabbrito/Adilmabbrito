{
  "nbformat": 4,
  "nbformat_minor": 0,
  "metadata": {
    "colab": {
      "provenance": [],
      "authorship_tag": "ABX9TyOOExYbRF81Og10FLitogC2",
      "include_colab_link": true
    },
    "kernelspec": {
      "name": "python3",
      "display_name": "Python 3"
    },
    "language_info": {
      "name": "python"
    }
  },
  "cells": [
    {
      "cell_type": "markdown",
      "metadata": {
        "id": "view-in-github",
        "colab_type": "text"
      },
      "source": [
        "<a href=\"https://colab.research.google.com/github/Adilmabbrito/Adilmabbrito/blob/main/Aprendendo_python.ipynb\" target=\"_parent\"><img src=\"https://colab.research.google.com/assets/colab-badge.svg\" alt=\"Open In Colab\"/></a>"
      ]
    },
    {
      "cell_type": "code",
      "execution_count": null,
      "metadata": {
        "id": "GCEO-elFkZVg"
      },
      "outputs": [],
      "source": []
    },
    {
      "cell_type": "markdown",
      "source": [
        "Faça um programa que leia um ângulo qualquer e mostre na tela o valor do seno, cosseno e tangente desse ângulo;"
      ],
      "metadata": {
        "id": "9Nzz6mChkcU6"
      }
    },
    {
      "cell_type": "code",
      "source": [
        "import math\n",
        "ângulo = float(input('digite o ângulo que você deseja: '))\n",
        "seno = math.sin(math.radians(ângulo))\n",
        "print('O ângulo de {} tem o seno de {:.2f}'.format(ângulo, seno))  ## dentro das chaves colocar :.2f para 2 casas decimais após a vírgula.\n",
        "cosseno = math.cos(math.radians(ângulo))\n",
        "print('O ângulo de {} tem o cosseno de {:.2f}'.format(ângulo, cosseno))\n",
        "tangente = math.tan(math.radians(ângulo))\n",
        "print('O ângulo {} tem a tangente de {:.2f}'.format(ângulo, tangente))"
      ],
      "metadata": {
        "colab": {
          "base_uri": "https://localhost:8080/"
        },
        "id": "nWJxry5bkk6b",
        "outputId": "c38a8f20-9447-40e7-9c16-f881497d1326"
      },
      "execution_count": null,
      "outputs": [
        {
          "output_type": "stream",
          "name": "stdout",
          "text": [
            "digite o ângulo que você deseja: 30\n",
            "O ângulo de 30.0 tem o seno de 0.50\n",
            "O ângulo de 30.0 tem o cosseno de 0.87\n",
            "O ângulo 30.0 tem a tangente de 0.58\n"
          ]
        }
      ]
    },
    {
      "cell_type": "markdown",
      "source": [
        "Um professor quer sortear um dos seus quatro alunos para apagar o quadro. Faça um programa que ajude ele, lendo o nome deles e escrevendo o nome do escolhido."
      ],
      "metadata": {
        "id": "WQbt7a49p6BB"
      }
    },
    {
      "cell_type": "code",
      "source": [
        "import random  ##random faz um sorteio aleatório\n",
        "\n",
        "n1 = str(input(\"Primeiro aluno: \"))\n",
        "n2 = str(input(\"Segundo aluno: \"))\n",
        "n3 = str(input(\"Terceiro aluno: \"))\n",
        "n4 = str(input(\"Quarto aluno: \"))\n",
        "\n",
        "lista = [n1, n2, n3, n4]\n",
        "\n",
        "escolhido = random.choice(lista)\n",
        "print('O aluno escolhido foi {}'.format(escolhido))\n"
      ],
      "metadata": {
        "colab": {
          "base_uri": "https://localhost:8080/"
        },
        "id": "4xTd5LHEqQJQ",
        "outputId": "0533ac38-fa7f-472e-e125-d711ca6cffc7"
      },
      "execution_count": null,
      "outputs": [
        {
          "output_type": "stream",
          "name": "stdout",
          "text": [
            "Primeiro aluno: Ana\n",
            "Segundo aluno: Maria\n",
            "Terceiro aluno: José\n",
            "Quarto aluno: Paulo\n",
            "O aluno escolhido foi José\n"
          ]
        }
      ]
    },
    {
      "cell_type": "markdown",
      "source": [
        "O mesmo professor do desafio anterior quer sortear a ordem de apresentação de trabalhos dos alunos. Faça um programa que leia o nome dos quatro alunos e mostre a ordem sorteada."
      ],
      "metadata": {
        "id": "CGs6Kx60dyDF"
      }
    },
    {
      "cell_type": "code",
      "source": [
        "import random\n",
        "\n",
        "n1 = str(input('Primeiro aluno: '))\n",
        "n2 = str(input('Segundo aluno: '))\n",
        "n3 = str(input('Terceiro aluno: '))\n",
        "n4 = str(input('Quarto aluno: '))\n",
        "\n",
        "lista = [n1, n2, n3, n4]\n",
        "\n",
        "random.shuffle(lista)   ##shuffle serve para embaralhar\n",
        "\n",
        "print('A ordem de apresentação será')\n",
        "print(lista)"
      ],
      "metadata": {
        "colab": {
          "base_uri": "https://localhost:8080/"
        },
        "id": "CpXlme0Bc004",
        "outputId": "d6fec7a3-16c6-492c-d86b-9ec3c6c01af6"
      },
      "execution_count": null,
      "outputs": [
        {
          "output_type": "stream",
          "name": "stdout",
          "text": [
            "Primeiro aluno: ana\n",
            "Segundo aluno: josé\n",
            "Terceiro aluno: maria\n",
            "Quarto aluno: pedro\n",
            "A ordem de apresentação será\n",
            "['pedro', 'ana', 'maria', 'josé']\n"
          ]
        }
      ]
    },
    {
      "cell_type": "markdown",
      "source": [
        "Manipulando cadeias de texto"
      ],
      "metadata": {
        "id": "4H0LYIcofXYj"
      }
    },
    {
      "cell_type": "markdown",
      "source": [
        "**Fatiamento**\n",
        " \n",
        "\n",
        " len(frase)  ##mostra o tamanho da frase ( quantos caracteres)\n",
        "\n",
        " frase.count('o') ## mostra quantas vezes temos a letra 'o'\n",
        "\n",
        " frase.count('o', 0, 13)  ##mostra quantas vezes temos a letra 'o' da posição zero até a posição treze.\n",
        "\n",
        " frase.find('deo')  ##mostra onde começou o 'deo' na frase ( posição)\n",
        "\n",
        " 'Curso' in frase ##vai mostrar Verdadeiro ou Falso.\n",
        "\n",
        "** Transformação**\n",
        "\n",
        "frase.replace('Python', 'android') ## vai substituir a palavra \"python\" por \"android\"\n",
        "\n",
        "frase.upper() ##coloca as letras minúsculas em maiúsculas\n",
        "\n",
        "frase.lower() ##coloca as letras maiúsculas em minúsculas\n",
        "\n",
        "frase.capitalize() ##Joga tudo pra minúsculo e apenas a primeira letra em maiúsculo\n",
        "\n",
        "frase.title() ##coloca apenas as primeiras letras de todas as palavras em maiúculas\n",
        "\n",
        "frase.strip() ## remove espaços vazios no inicio e final da frase(espaços inúteis)\n",
        "\n",
        "frase.rstrip() ##remove apenas os espaços vazios da direita.\n",
        "\n",
        "frase.lstrip() ## remove epenas os espaços vazios da esquerda.\n",
        "\n"
      ],
      "metadata": {
        "id": "3TgqnGoSj3xT"
      }
    },
    {
      "cell_type": "markdown",
      "source": [
        "### **Praticando:**"
      ],
      "metadata": {
        "id": "s2fd7tPItbFX"
      }
    },
    {
      "cell_type": "code",
      "source": [
        "frase = 'Curso em vídeo Python'\n",
        "print(frase[3])"
      ],
      "metadata": {
        "colab": {
          "base_uri": "https://localhost:8080/"
        },
        "id": "nG6KYfRzjfHP",
        "outputId": "dc4634c8-f6cb-413d-b730-8a09b6a62613"
      },
      "execution_count": null,
      "outputs": [
        {
          "output_type": "stream",
          "name": "stdout",
          "text": [
            "s\n"
          ]
        }
      ]
    },
    {
      "cell_type": "code",
      "source": [
        "frase = 'Curso em vídeo Python'\n",
        "print(frase[3:13])"
      ],
      "metadata": {
        "colab": {
          "base_uri": "https://localhost:8080/"
        },
        "id": "Gv_ZhXofsw5S",
        "outputId": "339dd494-68b9-4608-8ff2-1cc2a7f7acc4"
      },
      "execution_count": null,
      "outputs": [
        {
          "output_type": "stream",
          "name": "stdout",
          "text": [
            "so em víde\n"
          ]
        }
      ]
    },
    {
      "cell_type": "code",
      "source": [
        "frase = 'Curso em vídeo Python'\n",
        "print(frase[:13])"
      ],
      "metadata": {
        "colab": {
          "base_uri": "https://localhost:8080/"
        },
        "id": "0NOwp5azs6_F",
        "outputId": "33c1d214-d529-41c3-d343-a725f5061bea"
      },
      "execution_count": null,
      "outputs": [
        {
          "output_type": "stream",
          "name": "stdout",
          "text": [
            "Curso em víde\n"
          ]
        }
      ]
    },
    {
      "cell_type": "code",
      "source": [
        "frase = 'Curso em vídeo Python'\n",
        "print(frase[13:])"
      ],
      "metadata": {
        "colab": {
          "base_uri": "https://localhost:8080/"
        },
        "id": "DcEGZR5_tVha",
        "outputId": "5c91a998-ba0d-4d08-8bfa-8378d0cbf5e3"
      },
      "execution_count": null,
      "outputs": [
        {
          "output_type": "stream",
          "name": "stdout",
          "text": [
            "o Python\n"
          ]
        }
      ]
    },
    {
      "cell_type": "code",
      "source": [
        "frase = 'Curso em vídeo Python'\n",
        "print(frase[1:15:2])  ## do 1 ao 15 pulando de 2 em 2"
      ],
      "metadata": {
        "colab": {
          "base_uri": "https://localhost:8080/"
        },
        "id": "2AJoVdnpthy2",
        "outputId": "d7551fb6-7c7e-458b-b12e-62b58a3becaa"
      },
      "execution_count": null,
      "outputs": [
        {
          "output_type": "stream",
          "name": "stdout",
          "text": [
            "us mvdo\n"
          ]
        }
      ]
    },
    {
      "cell_type": "code",
      "source": [
        "frase = 'Curso em vídeo Python'\n",
        "print(frase.count('o'))  ##conta quantas vezes tem a letra 'o'"
      ],
      "metadata": {
        "colab": {
          "base_uri": "https://localhost:8080/"
        },
        "id": "20ePMStluDuX",
        "outputId": "613d6638-5dc4-43e1-f3ac-23aa63992d7e"
      },
      "execution_count": null,
      "outputs": [
        {
          "output_type": "stream",
          "name": "stdout",
          "text": [
            "3\n"
          ]
        }
      ]
    },
    {
      "cell_type": "code",
      "source": [
        "frase = 'Curso em vídeo Python'\n",
        "print(len(frase))  ##conta quantos caracteres"
      ],
      "metadata": {
        "colab": {
          "base_uri": "https://localhost:8080/"
        },
        "id": "7m69hhioubmA",
        "outputId": "77827451-11ba-408e-d31c-e5fe0f63cf24"
      },
      "execution_count": null,
      "outputs": [
        {
          "output_type": "stream",
          "name": "stdout",
          "text": [
            "21\n"
          ]
        }
      ]
    },
    {
      "cell_type": "code",
      "source": [
        "frase = 'Curso em vídeo Python'\n",
        "print(frase.replace('Python','android'))  ##troca as palavras"
      ],
      "metadata": {
        "colab": {
          "base_uri": "https://localhost:8080/"
        },
        "id": "gjGKQqezupW8",
        "outputId": "80ce45a9-ca4d-44c1-939d-f9af48bf8ddd"
      },
      "execution_count": null,
      "outputs": [
        {
          "output_type": "stream",
          "name": "stdout",
          "text": [
            "Curso em vídeo android\n"
          ]
        }
      ]
    },
    {
      "cell_type": "code",
      "source": [
        "frase = 'Curso em vídeo Python'\n",
        "print('Curso' in frase)"
      ],
      "metadata": {
        "colab": {
          "base_uri": "https://localhost:8080/"
        },
        "id": "JycJrlkjvC_-",
        "outputId": "c4ca62c7-c20f-42bb-96fb-53cd5e2eb373"
      },
      "execution_count": null,
      "outputs": [
        {
          "output_type": "stream",
          "name": "stdout",
          "text": [
            "True\n"
          ]
        }
      ]
    },
    {
      "cell_type": "code",
      "source": [
        "frase = 'Curso em vídeo Python'\n",
        "print(frase.split())   ##divide a frase e forma uma lista"
      ],
      "metadata": {
        "colab": {
          "base_uri": "https://localhost:8080/"
        },
        "id": "ALjNzNokvdJR",
        "outputId": "fefbe336-4925-4232-bce9-6950c81e9f01"
      },
      "execution_count": null,
      "outputs": [
        {
          "output_type": "stream",
          "name": "stdout",
          "text": [
            "['Curso', 'em', 'vídeo', 'Python']\n"
          ]
        }
      ]
    },
    {
      "cell_type": "code",
      "source": [
        "frase = 'Curso em vídeo Python'\n",
        "dividido = frase.split()\n",
        "print(dividido[2][3])   ## divide a frase, pega o segundo elemento e mostra a posição 3"
      ],
      "metadata": {
        "colab": {
          "base_uri": "https://localhost:8080/"
        },
        "id": "zjQW7YwAvytG",
        "outputId": "fa9521bc-08ba-4944-81b9-e8af88ec3f08"
      },
      "execution_count": null,
      "outputs": [
        {
          "output_type": "stream",
          "name": "stdout",
          "text": [
            "e\n"
          ]
        }
      ]
    },
    {
      "cell_type": "markdown",
      "source": [
        "Desafios:\n",
        "\n",
        "1- Crie um programa que leia o nome completo de uma pessoa e mostre:\n",
        "\n",
        "-> O nome com todas as letras maiúsculas\n",
        "\n",
        "-> O nome com todas as letras minúsculas\n",
        "\n",
        "-> Quantas letras ao todo ( sem considerar espaços)\n",
        "\n",
        "-> Quantas letras tem o primeiro nome"
      ],
      "metadata": {
        "id": "S-FkZLJBwUZv"
      }
    },
    {
      "cell_type": "code",
      "source": [
        "nome = str(input('Qual o seu nome? '))\n",
        "print('Analisando seu nome...')\n",
        "print('Seu nome em maiúsculas é {}'.format(nome.upper()))\n",
        "print('Seu nome em minúsculas é {}'.format(nome.lower()))\n",
        "print('Seu nome tem ao todo {} letras'.format(len(nome) - nome.count(' ')))\n",
        "\n",
        "separa = nome.split()\n",
        "print('Seu primeiro nome é {} e ele tem {} letras'.format(separa[0], len(separa[0])))"
      ],
      "metadata": {
        "colab": {
          "base_uri": "https://localhost:8080/"
        },
        "id": "_Zu0tvmWwzk1",
        "outputId": "b8ba5f41-bbd6-4b3a-d6cd-9e1d5e923014"
      },
      "execution_count": null,
      "outputs": [
        {
          "output_type": "stream",
          "name": "stdout",
          "text": [
            "Qual o seu nome? adilma brito\n",
            "Analisando seu nome...\n",
            "Seu nome em maiúsculas é ADILMA BRITO\n",
            "Seu nome em minúsculas é adilma brito\n",
            "Seu nome tem ao todo 11 letras\n",
            "Seu primeiro nome é adilma e ele tem 6 letras\n"
          ]
        }
      ]
    },
    {
      "cell_type": "code",
      "source": [],
      "metadata": {
        "id": "hNm-oVwH3UwD"
      },
      "execution_count": null,
      "outputs": []
    },
    {
      "cell_type": "markdown",
      "source": [
        "Faça um programa que leia um número de 0 a  9999 e nostre na tela cada um dos dígitos separados"
      ],
      "metadata": {
        "id": "SJzFynD5Ylq2"
      }
    },
    {
      "cell_type": "code",
      "source": [
        "num = int(input(\"Digite um número: \"))\n",
        "u = num // 1 % 10\n",
        "d = num // 10 % 10\n",
        "c = num //100 % 10\n",
        "m = num // 1000 % 10\n",
        "print('Analisando o número {}'.format(num))\n",
        "print('Unidade: {}'.format(u))\n",
        "print('Dezena: {}'.format(d))\n",
        "print('Centena: {}'.format(c))\n",
        "print('Milhar: {}'.format(m))"
      ],
      "metadata": {
        "colab": {
          "base_uri": "https://localhost:8080/"
        },
        "id": "jlbnJfTIYtf1",
        "outputId": "f10f9637-79f3-42ef-8fbc-5b4364c5e352"
      },
      "execution_count": 5,
      "outputs": [
        {
          "output_type": "stream",
          "name": "stdout",
          "text": [
            "Digite um número: 1254\n",
            "Analisando o número 1254\n",
            "Unidade: 4\n",
            "Dezena: 5\n",
            "Centena: 2\n",
            "Milhar: 1\n"
          ]
        }
      ]
    },
    {
      "cell_type": "markdown",
      "source": [
        "Crie um programa que leia o nome de uma cidade e diga se ela começa ou não com o nome \"SANTO\""
      ],
      "metadata": {
        "id": "H77NPVkAb3jE"
      }
    },
    {
      "cell_type": "code",
      "source": [
        "cid = str(input( 'Em que cidade você nasceu? ')).strip()         #elimina os espaços\n",
        "print(cid [:5].upper() == 'SANTO')                               #deixa tudo maiúscula"
      ],
      "metadata": {
        "colab": {
          "base_uri": "https://localhost:8080/"
        },
        "id": "U2nUjFQJdvBE",
        "outputId": "9c67e562-d650-4ef2-e546-884a8530e7f5"
      },
      "execution_count": 12,
      "outputs": [
        {
          "output_type": "stream",
          "name": "stdout",
          "text": [
            "Em que cidade você nasceu? santo anjo\n",
            "True\n"
          ]
        }
      ]
    },
    {
      "cell_type": "markdown",
      "source": [
        "Crie um programa que leia o nome e verifique se há a palavra \"SILVA\"."
      ],
      "metadata": {
        "id": "CU4_ui3hgZ40"
      }
    },
    {
      "cell_type": "code",
      "source": [],
      "metadata": {
        "id": "I2LpxjhVgfYp"
      },
      "execution_count": null,
      "outputs": []
    }
  ]
}