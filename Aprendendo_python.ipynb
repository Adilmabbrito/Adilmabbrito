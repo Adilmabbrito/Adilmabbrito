{
  "nbformat": 4,
  "nbformat_minor": 0,
  "metadata": {
    "colab": {
      "provenance": [],
      "authorship_tag": "ABX9TyN7ToGPfAtsFDA7vG9kkCXn",
      "include_colab_link": true
    },
    "kernelspec": {
      "name": "python3",
      "display_name": "Python 3"
    },
    "language_info": {
      "name": "python"
    }
  },
  "cells": [
    {
      "cell_type": "markdown",
      "metadata": {
        "id": "view-in-github",
        "colab_type": "text"
      },
      "source": [
        "<a href=\"https://colab.research.google.com/github/Adilmabbrito/Adilmabbrito/blob/main/Aprendendo_python.ipynb\" target=\"_parent\"><img src=\"https://colab.research.google.com/assets/colab-badge.svg\" alt=\"Open In Colab\"/></a>"
      ]
    },
    {
      "cell_type": "code",
      "execution_count": null,
      "metadata": {
        "id": "GCEO-elFkZVg"
      },
      "outputs": [],
      "source": []
    },
    {
      "cell_type": "markdown",
      "source": [
        "Faça um programa que leia um ângulo qualquer e mostre na tela o valor do seno, cosseno e tangente desse ângulo;"
      ],
      "metadata": {
        "id": "9Nzz6mChkcU6"
      }
    },
    {
      "cell_type": "code",
      "source": [
        "import math\n",
        "ângulo = float(input('digite o ângulo que você deseja: '))\n",
        "seno = math.sin(math.radians(ângulo))\n",
        "print('O ângulo de {} tem o seno de {:.2f}'.format(ângulo, seno))  ## dentro das chaves colocar :.2f para 2 casas decimais após a vírgula.\n",
        "cosseno = math.cos(math.radians(ângulo))\n",
        "print('O ângulo de {} tem o cosseno de {:.2f}'.format(ângulo, cosseno))\n",
        "tangente = math.tan(math.radians(ângulo))\n",
        "print('O ângulo {} tem a tangente de {:.2f}'.format(ângulo, tangente))"
      ],
      "metadata": {
        "colab": {
          "base_uri": "https://localhost:8080/"
        },
        "id": "nWJxry5bkk6b",
        "outputId": "c38a8f20-9447-40e7-9c16-f881497d1326"
      },
      "execution_count": 11,
      "outputs": [
        {
          "output_type": "stream",
          "name": "stdout",
          "text": [
            "digite o ângulo que você deseja: 30\n",
            "O ângulo de 30.0 tem o seno de 0.50\n",
            "O ângulo de 30.0 tem o cosseno de 0.87\n",
            "O ângulo 30.0 tem a tangente de 0.58\n"
          ]
        }
      ]
    }
  ]
}